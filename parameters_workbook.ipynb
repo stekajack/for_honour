{
 "cells": [
  {
   "cell_type": "code",
   "execution_count": 1,
   "metadata": {},
   "outputs": [],
   "source": [
    "from math import *"
   ]
  },
  {
   "cell_type": "markdown",
   "metadata": {},
   "source": [
    "# **Constants and material properties**"
   ]
  },
  {
   "cell_type": "code",
   "execution_count": 2,
   "metadata": {},
   "outputs": [],
   "source": [
    "# Constants\n",
    "mu0=4.e-7*pi       # kg m /(s^2 A^2)\n",
    "kb=1.38064852e-23  # m^2 kg /(s^2 K)\n",
    "\n",
    "# Background properties\n",
    "T=298.15           # room temp. K\n",
    "densw=997.0        # density of water at room T, kg/m^3\n",
    "\n",
    "# material properties (magnetite core + oleic acid or alike shell)\n",
    "Mm=480.e3          # saturation magnetization of magnetite, A/m (480 is used frequently by theoreticians). Experimental measurements: https://dx.doi.org/10.1103/PhysRevE.75.051408\n",
    "densm=5170.0       # density of magnetite, kg/m^3\n",
    "densmsh=895.0      # density of oleic acid, coating magnetite, kg/m^3.\n",
    "                   # Citric acid (like in https://doi.org/10.1021/jp045402y) would make it biocompatible, but is strongly charged and much heavier (1660 kg/m^3). https://nanohybrids.net/pages/what-is-the-difference-between-citrate-ctab-peg-silica-coatings\n",
    "# arbitrary parameters\n",
    "Dm=15.e-9          # diameter of magnetite core, m\n",
    "Rmsh=1.5e-9         # thickness of oleic acid coating, m\n",
    "Rm=Dm/2.           # radius of the magnetic core, m\n",
    "Rf=Rm+Rmsh         # total radius, m\n",
    "sigmam=2.*Rf       # total diameter, m\n"
   ]
  },
  {
   "cell_type": "markdown",
   "metadata": {},
   "source": [
    "# **Derived Properties**"
   ]
  },
  {
   "cell_type": "code",
   "execution_count": 3,
   "metadata": {},
   "outputs": [],
   "source": [
    "# derived properties\n",
    "dip=Mm*pi*(Dm**3.)/6.                               # dipole moment, A m^2\n",
    "lambdam=mu0*dip*dip/(4.*pi*kb*T*((sigmam)**3.))  # lambda (dimensionless dipolar coupling parameter)\n",
    "massm=(4./3.)*pi*(densm*(Rm**3.) + densmsh*((Rf)**3. - Rm**3.))        # mass, kg\n",
    "momIm=(8./15.)*pi*(densm*(Rm**5.) + densmsh*( (Rf**5.) - (Rm**5.) ) )  # moment of inertia, kg m^2"
   ]
  },
  {
   "cell_type": "code",
   "execution_count": 4,
   "metadata": {},
   "outputs": [
    {
     "name": "stdout",
     "output_type": "stream",
     "text": [
      "dipole moment, mu: 8.48230016469244e-19 [A m^2]\n",
      "lambda: 2.9970349880439695\n",
      "mass: 1.0287545697243107e-20 [kg]\n",
      "moment of inertia: 2.585264496073025e-37 [kg m^2]\n"
     ]
    }
   ],
   "source": [
    "print(\"dipole moment, mu:\",dip,\"[A m^2]\")\n",
    "print(\"lambda:\",lambdam)\n",
    "print(\"mass:\",massm,\"[kg]\")\n",
    "print(\"moment of inertia:\",momIm,\"[kg m^2]\")"
   ]
  },
  {
   "cell_type": "markdown",
   "metadata": {},
   "source": [
    "# **LB arbitrary parameters**"
   ]
  },
  {
   "cell_type": "code",
   "execution_count": 5,
   "metadata": {},
   "outputs": [],
   "source": [
    "agrid = 1 # dont change this unless you want to enter a world of pain. trust me\n",
    "rho_LB_MD = 1 \n",
    "colloid_radius_MD = 1.5"
   ]
  },
  {
   "cell_type": "markdown",
   "metadata": {},
   "source": [
    "# **Scales**"
   ]
  },
  {
   "cell_type": "code",
   "execution_count": 6,
   "metadata": {},
   "outputs": [],
   "source": [
    "d_=Rf/colloid_radius_MD                                     # length scale, m\n",
    "mass_ = densw/rho_LB_MD*pow(d_,3)                           # mass scale, kg\n",
    "U_=kb*T                                                     # energy scale, m^2 kg / s^2 (J)\n",
    "t_ = d_*sqrt(mass_/U_)                                      # time scale, s\n",
    "# dip_=sqrt((4*pi*U_*pow(d_*colloid_radius_MD*2,3))/(mu0*1*pow(colloid_radius_MD*2,3)))       # dipole scale, A m^2\n",
    "dip_=sqrt(4.*pi*U_*(d_**3.)/mu0)\n",
    "A_=dip_/(d_*d_)                                             # Ampere scale, A\n",
    "B_=mass_/(A_*t_*t_)                                         # B-field scale, kg/ A s^2 (T)"
   ]
  },
  {
   "cell_type": "code",
   "execution_count": 7,
   "metadata": {},
   "outputs": [
    {
     "name": "stdout",
     "output_type": "stream",
     "text": [
      "length scale 6e-09\n",
      "mass scale 2.15352e-22\n",
      "energy scale 4.116403562379999e-21\n",
      "time scale 1.3723558325848813e-09\n",
      "dipole scale 9.429438845838492e-20\n",
      "B-field scale 0.0436548094714745\n"
     ]
    }
   ],
   "source": [
    "print('length scale',d_)\n",
    "print('mass scale',mass_)\n",
    "print('energy scale',U_)\n",
    "print('time scale', t_)\n",
    "print('dipole scale',dip_)\n",
    "print('B-field scale', B_)"
   ]
  },
  {
   "cell_type": "markdown",
   "metadata": {},
   "source": [
    "# Reduced MD Parameters"
   ]
  },
  {
   "cell_type": "code",
   "execution_count": 13,
   "metadata": {},
   "outputs": [
    {
     "name": "stdout",
     "output_type": "stream",
     "text": [
      "(kT)*:  1.0\n",
      "(sigma_m)*: : 3.0\n",
      "(mass_m)*:  47.77083889280391\n",
      "(mom_I_m)*:  42.99375500352352\n",
      "(mom_I_m_cube)*:  17.914064584801466\n",
      "dipole moment, (mu)*:  8.995551382610584\n"
     ]
    }
   ],
   "source": [
    "print(\"(kT)*: \",kb*T/U_)\n",
    "print(\"(sigma_m)*: :\",sigmam/d_)\n",
    "print(\"(mass_m)*: \",massm/mass_)\n",
    "print(\"(mom_I_m)*: \",(2/5)*(massm/mass_)*pow(colloid_radius_MD,2))\n",
    "print(\"(mom_I_m_cube)*: \",(1/6)*(massm/mass_)*pow(colloid_radius_MD,2))\n",
    "print(\"dipole moment, (mu)*: \",dip/dip_)\n",
    "# print(\"B-field, (B)*:\",B_SI/B_)"
   ]
  },
  {
   "cell_type": "markdown",
   "metadata": {},
   "source": [
    "# **Lattice-Boltzmann Units**"
   ]
  },
  {
   "cell_type": "code",
   "execution_count": 14,
   "metadata": {},
   "outputs": [],
   "source": [
    "viscosity_SI = 8.9e-8\n",
    "factor = pow(d_,2)/t_\n",
    "viscosity_MD = viscosity_SI/factor\n",
    "LB_viscosity_MD = viscosity_MD*rho_LB_MD\n",
    "g = 25.        \n",
    "r_h = 0.25\n",
    "gamma_MD = 1/(1/(6*pi*r_h*LB_viscosity_MD)-1/(LB_viscosity_MD*g*agrid))"
   ]
  },
  {
   "cell_type": "code",
   "execution_count": 15,
   "metadata": {},
   "outputs": [
    {
     "name": "stdout",
     "output_type": "stream",
     "text": [
      "viscosity_MD_kinematic:  3.3927685861126236\n",
      "viscosity_MD_dynamic:  3.3927685861126236\n",
      "gamma_MD:  19.701734820741397\n"
     ]
    }
   ],
   "source": [
    "print(\"viscosity_MD_kinematic: \",viscosity_MD)\n",
    "print(\"viscosity_MD_dynamic: \",LB_viscosity_MD)\n",
    "print(\"gamma_MD: \",gamma_MD)"
   ]
  }
 ],
 "metadata": {
  "kernelspec": {
   "display_name": "Python 3.9.2 64-bit",
   "name": "python392jvsc74a57bd0aee8b7b246df8f9039afb4144a1f6fd8d2ca17a180786b69acc140d282b71a49"
  },
  "language_info": {
   "name": "python",
   "version": ""
  },
  "metadata": {
   "interpreter": {
    "hash": "aee8b7b246df8f9039afb4144a1f6fd8d2ca17a180786b69acc140d282b71a49"
   }
  },
  "orig_nbformat": 2
 },
 "nbformat": 4,
 "nbformat_minor": 2
}